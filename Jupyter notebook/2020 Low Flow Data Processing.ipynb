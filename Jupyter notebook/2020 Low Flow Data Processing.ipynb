{
 "cells": [
  {
   "cell_type": "markdown",
   "metadata": {},
   "source": []
  },
  {
   "cell_type": "code",
   "execution_count": 8,
   "metadata": {},
   "outputs": [
    {
     "data": {
      "text/html": [
       " <style>    div#notebook-container    { width: 95%; }    div#menubar-container    \n",
       "{ width: 80%; }    div#maintoolbar-container { width: 99%; } </style> "
      ],
      "text/plain": [
       "<IPython.core.display.HTML object>"
      ]
     },
     "metadata": {},
     "output_type": "display_data"
    }
   ],
   "source": [
    "import sys\n",
    "sys.path.append('../2019/Python Code/')\n",
    "\n",
    "# Import Custom Modules\n",
    "from Excel_Plots import Excel_Plots    \n",
    "from OvertoppingFlows import *\n",
    "from hover_points import *\n",
    "import string\n",
    "import textwrap\n",
    "\n",
    "# make the screen bigger!\n",
    "from IPython.display import display, HTML\n",
    "display(HTML(data=\"\"\" <style>    div#notebook-container    { width: 95%; }    div#menubar-container    \n",
    "{ width: 80%; }    div#maintoolbar-container { width: 99%; } </style> \"\"\"))       "
   ]
  },
  {
   "cell_type": "code",
   "execution_count": null,
   "metadata": {},
   "outputs": [],
   "source": []
  }
 ],
 "metadata": {
  "kernelspec": {
   "display_name": "Python 2",
   "language": "python",
   "name": "python2"
  },
  "language_info": {
   "codemirror_mode": {
    "name": "ipython",
    "version": 2
   },
   "file_extension": ".py",
   "mimetype": "text/x-python",
   "name": "python",
   "nbconvert_exporter": "python",
   "pygments_lexer": "ipython2",
   "version": "2.7.10"
  }
 },
 "nbformat": 4,
 "nbformat_minor": 2
}
